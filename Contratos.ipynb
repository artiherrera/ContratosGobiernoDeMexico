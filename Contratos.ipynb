{
 "cells": [
  {
   "cell_type": "markdown",
   "metadata": {},
   "source": [
    "### Instalaciones"
   ]
  },
  {
   "cell_type": "markdown",
   "metadata": {},
   "source": [
    "#### Convertidor de divisas"
   ]
  },
  {
   "cell_type": "code",
   "execution_count": null,
   "metadata": {},
   "outputs": [],
   "source": [
    "pip install CurrencyConverter"
   ]
  },
  {
   "cell_type": "markdown",
   "metadata": {},
   "source": [
    "##### Tablas dinámicas"
   ]
  },
  {
   "cell_type": "code",
   "execution_count": null,
   "metadata": {},
   "outputs": [],
   "source": [
    "pip install itables"
   ]
  },
  {
   "cell_type": "markdown",
   "metadata": {},
   "source": [
    "#### Encontrar NA graficamente"
   ]
  },
  {
   "cell_type": "code",
   "execution_count": null,
   "metadata": {},
   "outputs": [],
   "source": [
    "pip install missingno"
   ]
  },
  {
   "cell_type": "markdown",
   "metadata": {},
   "source": [
    "### Librerías"
   ]
  },
  {
   "cell_type": "code",
   "execution_count": null,
   "metadata": {},
   "outputs": [],
   "source": [
    "import pandas as pd\n",
    "from currency_converter import CurrencyConverter\n",
    "import matplotlib.pylab as plt\n",
    "import plotly.express as px\n",
    "from pywaffle import Waffle\n",
    "from pivottablejs import pivot_ui\n",
    "import seaborn as sns\n",
    "import numpy as np\n",
    "import plotly.figure_factory as ff\n",
    "import dataframe_image as dfi"
   ]
  },
  {
   "cell_type": "code",
   "execution_count": null,
   "metadata": {},
   "outputs": [],
   "source": [
    "from itables import init_notebook_mode\n",
    "init_notebook_mode(all_interactive=True)"
   ]
  },
  {
   "cell_type": "code",
   "execution_count": null,
   "metadata": {},
   "outputs": [],
   "source": [
    "import missingno as msno\n",
    "\n",
    "%matplotlib inline #render plots within jupyter notebook"
   ]
  },
  {
   "cell_type": "markdown",
   "metadata": {},
   "source": [
    "#### Importando CSV 2021"
   ]
  },
  {
   "cell_type": "code",
   "execution_count": null,
   "metadata": {},
   "outputs": [],
   "source": [
    "directory2021=\"Contratos2021_210219090543 2.xlsx\"\n",
    "contratos2021=pd.read_excel(directory2021)"
   ]
  },
  {
   "cell_type": "markdown",
   "metadata": {},
   "source": [
    "#### Importando CSV 2020"
   ]
  },
  {
   "cell_type": "code",
   "execution_count": null,
   "metadata": {},
   "outputs": [],
   "source": [
    "directory2020=\"Contratos2020_210223083001.xlsx\"\n",
    "contratos2020=pd.read_excel(directory2020)"
   ]
  },
  {
   "cell_type": "code",
   "execution_count": null,
   "metadata": {},
   "outputs": [],
   "source": [
    "#Fucionando frames\n",
    "frames = [contratos2021, contratos2020]\n",
    "contratos=pd.concat(frames)"
   ]
  },
  {
   "cell_type": "markdown",
   "metadata": {},
   "source": [
    "#### Valores nulos (gráfica)"
   ]
  },
  {
   "cell_type": "code",
   "execution_count": null,
   "metadata": {},
   "outputs": [],
   "source": [
    "msno.matrix(contratos)\n"
   ]
  },
  {
   "cell_type": "markdown",
   "metadata": {},
   "source": [
    "### Limpiando base de datos"
   ]
  },
  {
   "cell_type": "code",
   "execution_count": 7,
   "metadata": {},
   "outputs": [],
   "source": [
    "# Columnas\n",
    "columnas=[]\n",
    "\n",
    "for col in contratos.columns: \n",
    "    append.columnas(col)\n",
    "\n",
    "print(columnas)"
   ]
  },
  {
   "cell_type": "code",
   "execution_count": null,
   "metadata": {},
   "outputs": [],
   "source": [
    "contratos['Proveedor o contratista'] = contratos['Proveedor o contratista'].str.upper() "
   ]
  },
  {
   "cell_type": "markdown",
   "metadata": {},
   "source": [
    "### Convirtiendo divisas"
   ]
  },
  {
   "cell_type": "code",
   "execution_count": null,
   "metadata": {},
   "outputs": [],
   "source": [
    "#Precios divisas\n",
    "c = CurrencyConverter()\n",
    "currencies=['USD', 'CAD', 'EUR', 'GBP', 'JPY']\n",
    "for m in currencies:\n",
    "    print(m, c.convert(1, m, 'MXN'))"
   ]
  },
  {
   "cell_type": "code",
   "execution_count": null,
   "metadata": {},
   "outputs": [],
   "source": [
    "USD=c.convert(1, 'USD', 'MXN')\n",
    "CAD=c.convert(1, 'CAD', 'MXN')\n",
    "EUR=c.convert(1, 'EUR', 'MXN')\n",
    "GBP=c.convert(1, 'GBP', 'MXN')\n",
    "JPY=c.convert(1, 'JPY', 'MXN')"
   ]
  },
  {
   "cell_type": "code",
   "execution_count": null,
   "metadata": {},
   "outputs": [],
   "source": [
    "contratos[\"Importe\"]=contratos[\"Importe del contrato\"]\n",
    "\n",
    "contratos.loc[contratos['Moneda del contrato'] == \"USD\" , 'Importe']=contratos.loc[contratos['Moneda del contrato'] == \"USD\" , \"Importe del contrato\"]*USD\n",
    "\n",
    "contratos.loc[contratos['Moneda del contrato'] == \"CAD\" , 'Importe']=contratos.loc[contratos['Moneda del contrato'] == \"CAD\" , 'Importe del contrato']*CAD\n",
    "    \n",
    "contratos.loc[contratos['Moneda del contrato'] == \"EUR\" , 'Importe']=contratos.loc[contratos['Moneda del contrato'] == \"EUR\" , 'Importe del contrato']*EUR\n",
    "    \n",
    "contratos.loc[contratos['Moneda del contrato'] == \"GBP\" , 'Importe']=contratos.loc[contratos['Moneda del contrato'] == \"GBP\" , 'Importe del contrato']*GBP\n",
    "    \n",
    "contratos.loc[contratos['Moneda del contrato'] == \"JPY\" , 'Importe']=contratos.loc[contratos['Moneda del contrato'] == \"JPY\" , 'Importe del contrato']*JPY\n",
    "\n",
    "print('Done')"
   ]
  },
  {
   "cell_type": "markdown",
   "metadata": {},
   "source": [
    "### Filtro de contratos"
   ]
  },
  {
   "cell_type": "code",
   "execution_count": null,
   "metadata": {},
   "outputs": [],
   "source": [
    "#x=contratos[np.logical_and(contratos['Título del expediente'].str.contains('DIFUSIÓN', na=False), \n",
    "                            #contratos['Siglas de la Institución']=='SEDENA')]\n",
    "#x=contratos[contratos['Proveedor o contratista'].str.contains('Proveedor o contratista', na=False)]\n",
    "#x=contratos[contratos['Importe']==25849460178.2]\n",
    "\n",
    "x[['Proveedor o contratista', 'Siglas de la Institución', 'Importe', 'Título del expediente', 'Dirección del anuncio', 'Tipo de procedimiento']]"
   ]
  },
  {
   "cell_type": "code",
   "execution_count": null,
   "metadata": {},
   "outputs": [],
   "source": [
    "caros=contratos[np.logical_and(contratos['Importe']>=0, contratos['Siglas de la Institución']=='SRE')]\n",
    "caros.sort_values(by='Importe', ascending=True, inplace=True)\n",
    "caros[['Proveedor o contratista', 'Siglas de la Institución','Título del expediente', 'Importe', 'Fecha de publicación', 'Dirección del anuncio', 'Tipo de procedimiento']]"
   ]
  },
  {
   "cell_type": "markdown",
   "metadata": {},
   "source": [
    "### Contratos más costosos"
   ]
  },
  {
   "cell_type": "code",
   "execution_count": null,
   "metadata": {},
   "outputs": [],
   "source": [
    "caros=contratos[np.logical_and(contratos['Importe']>=0, contratos['Siglas de la Institución']=='SRE')]\n",
    "caros.sort_values(by='Importe', ascending=True, inplace=True)\n",
    "caros[['Proveedor o contratista', 'Siglas de la Institución', 'Importe', 'Título del expediente', 'Dirección del anuncio', 'Tipo de procedimiento']].head(20)"
   ]
  },
  {
   "cell_type": "markdown",
   "metadata": {},
   "source": [
    "### Gráfica de Waffle"
   ]
  },
  {
   "cell_type": "code",
   "execution_count": null,
   "metadata": {},
   "outputs": [],
   "source": [
    "procesos=dict(contratos['Tipo de procedimiento'].value_counts())\n",
    "total_procesos=sum(procesos.values())\n",
    "print(procesos, \"\\n\")\n",
    "print(total_procesos)"
   ]
  },
  {
   "cell_type": "code",
   "execution_count": null,
   "metadata": {},
   "outputs": [],
   "source": [
    "for x,y in procesos.items():\n",
    "    procesos[x] = float(\"{:.2f}\".format((y/total_procesos)*100))\n",
    "    print(x,procesos[x])\n"
   ]
  },
  {
   "cell_type": "code",
   "execution_count": null,
   "metadata": {},
   "outputs": [],
   "source": [
    "fig = plt.figure(FigureClass=Waffle,\n",
    "                 figsize=(10,10),\n",
    "                 rows=10,\n",
    "                 columns=30,\n",
    "                 values=procesos,\n",
    "                 title={'label': 'Figura 2\\n ', 'loc': 'center', 'fontdict': {'fontsize': 16}},\n",
    "                 colors=[\"#f12832\", \"#000c2e\", \"#94e2ba\",\"#636363\", \"#9367aa\",'#a2ff1c'],\n",
    "                 labels=[f\"{k} ({v}%)\" for k, v in procesos.items()],\n",
    "                 legend={'loc': (0, -0.5), 'ncol': 1, 'fontsize':12, 'framealpha': 2})"
   ]
  },
  {
   "cell_type": "code",
   "execution_count": null,
   "metadata": {},
   "outputs": [],
   "source": [
    "pd.options.display.float_format = '{:.0f}'.format\n",
    "procedimiento_importe=contratos.groupby(\"Tipo de procedimiento\")[\"Importe\"].sum().reset_index()\n",
    "procedimiento_importe.sort_values(by='Importe', ascending=False, inplace=True)\n",
    "procedimiento_importe.head(10)\n"
   ]
  },
  {
   "cell_type": "code",
   "execution_count": null,
   "metadata": {},
   "outputs": [],
   "source": [
    "procesos=procedimiento_importe['Tipo de procedimiento'].tolist()\n",
    "importe=procedimiento_importe['Importe'].tolist()\n",
    "\n",
    "procesos_importe=dict(zip(procesos,importe))\n",
    "print(procesos_importe)\n",
    "#procesos_importe = dict(zip(procesos, importe))\n"
   ]
  },
  {
   "cell_type": "code",
   "execution_count": null,
   "metadata": {},
   "outputs": [],
   "source": [
    "total_importe=sum(importe)\n",
    "for x,y in procesos_importe.items():\n",
    "    procesos_importe[x] = float(\"{:.2f}\".format((y/total_importe)*100))\n",
    "    print(x,procesos_importe[x])\n"
   ]
  },
  {
   "cell_type": "markdown",
   "metadata": {},
   "source": [
    "### Acumulado por instituciones\n"
   ]
  },
  {
   "cell_type": "code",
   "execution_count": null,
   "metadata": {},
   "outputs": [],
   "source": [
    "pd.options.display.float_format = '{:,}'.format\n",
    "Institucion=contratos.groupby(\"Siglas de la Institución\")[\"Importe\"].sum().reset_index()\n",
    "Institucion.sort_values(by='Importe', ascending=False, inplace=True)\n",
    "Institucion.set_index('Siglas de la Institución', inplace=True)\n",
    "Institucion"
   ]
  },
  {
   "cell_type": "code",
   "execution_count": null,
   "metadata": {},
   "outputs": [],
   "source": [
    "pd.options.display.float_format = '{:,}'.format\n",
    "Institucion_contratos=contratos.groupby(\"Siglas de la Institución\")[\"Importe\"].count().reset_index()\n",
    "Institucion_contratos.sort_values(by='Importe', ascending=False, inplace=True)\n",
    "Institucion_contratos.set_index('Siglas de la Institución', inplace=True)\n",
    "Institucion_contratos.rename(columns={'Importe':'Número de contratos'}, inplace=True)\n",
    "Institucion_contratos"
   ]
  },
  {
   "cell_type": "markdown",
   "metadata": {},
   "source": [
    "### Proovedores y filtro por proovedor"
   ]
  },
  {
   "cell_type": "code",
   "execution_count": null,
   "metadata": {},
   "outputs": [],
   "source": [
    "pd.set_option(\"display.max_rows\", contratos.index.shape[0])\n",
    "pd.options.display.float_format = '{:,}'.format\n",
    "#proveedor=contratos[contratos['Siglas de la Institución']=='BIENESTAR'].groupby(\"Proveedor o contratista\")[\"Importe\"].sum().reset_index()\n",
    "#proveedor=contratos[contratos['Siglas de la Institución']=='SCT']\n",
    "proveedor=contratos.groupby(\"Proveedor o contratista\")[\"Importe\"].sum().reset_index()\n",
    "\n",
    "proveedor.sort_values(by='Importe', ascending=False, inplace=True)\n",
    "proveedor.set_index(\"Proveedor o contratista\", inplace=True)\n",
    "\n",
    "#proveedor.set_index('Proveedor o contratista', inplace=True)\n",
    "proveedor"
   ]
  },
  {
   "cell_type": "code",
   "execution_count": null,
   "metadata": {},
   "outputs": [],
   "source": [
    "pd.options.display.float_format = '{:,}'.format\n",
    "proveedores_contratos=contratos.groupby('Proveedor o contratista')[\"Importe\"].count().reset_index()\n",
    "proveedores_contratos.sort_values(by='Importe', ascending=False, inplace=True)\n",
    "proveedores_contratos.set_index(\"Proveedor o contratista\", inplace=True)\n",
    "proveedores_contratos.rename(columns={'Importe':'Número de contratos'}, inplace=True)\n",
    "proveedores_contratos\n"
   ]
  },
  {
   "cell_type": "markdown",
   "metadata": {},
   "source": [
    "### Microempresas"
   ]
  },
  {
   "cell_type": "code",
   "execution_count": null,
   "metadata": {},
   "outputs": [],
   "source": [
    "pd.options.display.float_format = '{:,}'.format\n",
    "contratos['Estratificación de la empresa'].fillna('NaN', inplace=True)\n",
    "\n",
    "micro=contratos.groupby(['Proveedor o contratista', 'Estratificación de la empresa']).agg({'Importe':'sum'}).reset_index()\n",
    "micro.sort_values(by='Importe', ascending=False, inplace=True)\n",
    "micro['Estratificación de la empresa'].fillna('NaN', inplace=True)\n",
    "\n",
    "micro.set_index(\"Proveedor o contratista\", inplace=True)\n",
    "\n",
    "micro=micro[np.logical_or(micro['Estratificación de la empresa'] == 'Micro', micro['Estratificación de la empresa'] == 'NaN')]\n",
    "\n",
    "#proveedor.set_index('Proveedor o contratista', inplace=True)\n",
    "micro"
   ]
  }
 ],
 "metadata": {
  "kernelspec": {
   "display_name": "Python 3",
   "language": "python",
   "name": "python3"
  },
  "language_info": {
   "codemirror_mode": {
    "name": "ipython",
    "version": 3
   },
   "file_extension": ".py",
   "mimetype": "text/x-python",
   "name": "python",
   "nbconvert_exporter": "python",
   "pygments_lexer": "ipython3",
   "version": "3.7.6"
  }
 },
 "nbformat": 4,
 "nbformat_minor": 4
}
